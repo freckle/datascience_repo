{
 "cells": [
  {
   "cell_type": "code",
   "execution_count": 2,
   "id": "96ef2e26",
   "metadata": {},
   "outputs": [
    {
     "name": "stdout",
     "output_type": "stream",
     "text": [
      "Collecting snowflake-connector-python\n",
      "  Downloading snowflake_connector_python-2.7.2-cp36-cp36m-manylinux_2_12_x86_64.manylinux2010_x86_64.manylinux_2_17_x86_64.manylinux2014_x86_64.whl (16.4 MB)\n",
      "     |████████████████████████████████| 16.4 MB 25.0 MB/s            \n",
      "\u001b[?25hRequirement already satisfied: cffi<2.0.0,>=1.9 in /home/ec2-user/anaconda3/envs/python3/lib/python3.6/site-packages (from snowflake-connector-python) (1.14.5)\n",
      "Requirement already satisfied: charset-normalizer~=2.0.0 in /home/ec2-user/anaconda3/envs/python3/lib/python3.6/site-packages (from snowflake-connector-python) (2.0.9)\n",
      "Requirement already satisfied: dataclasses<1.0 in /home/ec2-user/anaconda3/envs/python3/lib/python3.6/site-packages (from snowflake-connector-python) (0.8)\n",
      "Collecting pyjwt<3.0.0\n",
      "  Downloading PyJWT-2.3.0-py3-none-any.whl (16 kB)\n",
      "Requirement already satisfied: idna<4,>=2.5 in /home/ec2-user/anaconda3/envs/python3/lib/python3.6/site-packages (from snowflake-connector-python) (3.1)\n",
      "Requirement already satisfied: certifi>=2017.4.17 in /home/ec2-user/anaconda3/envs/python3/lib/python3.6/site-packages (from snowflake-connector-python) (2021.5.30)\n",
      "Requirement already satisfied: pyOpenSSL<22.0.0,>=16.2.0 in /home/ec2-user/anaconda3/envs/python3/lib/python3.6/site-packages (from snowflake-connector-python) (20.0.1)\n",
      "Requirement already satisfied: pytz in /home/ec2-user/anaconda3/envs/python3/lib/python3.6/site-packages (from snowflake-connector-python) (2021.1)\n",
      "Collecting oscrypto<2.0.0\n",
      "  Downloading oscrypto-1.2.1-py2.py3-none-any.whl (192 kB)\n",
      "     |████████████████████████████████| 192 kB 78.0 MB/s            \n",
      "\u001b[?25hCollecting pycryptodomex!=3.5.0,<4.0.0,>=3.2\n",
      "  Downloading pycryptodomex-3.12.0-cp35-abi3-manylinux2010_x86_64.whl (2.0 MB)\n",
      "     |████████████████████████████████| 2.0 MB 69.4 MB/s            \n",
      "\u001b[?25hRequirement already satisfied: cryptography<36.0.0,>=3.1.0 in /home/ec2-user/anaconda3/envs/python3/lib/python3.6/site-packages (from snowflake-connector-python) (3.4.4)\n",
      "Requirement already satisfied: requests<3.0.0 in /home/ec2-user/anaconda3/envs/python3/lib/python3.6/site-packages (from snowflake-connector-python) (2.26.0)\n",
      "Requirement already satisfied: setuptools>34.0.0 in /home/ec2-user/anaconda3/envs/python3/lib/python3.6/site-packages (from snowflake-connector-python) (49.6.0.post20210108)\n",
      "Requirement already satisfied: asn1crypto<2.0.0,>0.24.0 in /home/ec2-user/anaconda3/envs/python3/lib/python3.6/site-packages (from snowflake-connector-python) (1.4.0)\n",
      "Requirement already satisfied: pycparser in /home/ec2-user/anaconda3/envs/python3/lib/python3.6/site-packages (from cffi<2.0.0,>=1.9->snowflake-connector-python) (2.20)\n",
      "Requirement already satisfied: six>=1.5.2 in /home/ec2-user/anaconda3/envs/python3/lib/python3.6/site-packages (from pyOpenSSL<22.0.0,>=16.2.0->snowflake-connector-python) (1.15.0)\n",
      "Requirement already satisfied: urllib3<1.27,>=1.21.1 in /home/ec2-user/anaconda3/envs/python3/lib/python3.6/site-packages (from requests<3.0.0->snowflake-connector-python) (1.26.7)\n",
      "Installing collected packages: pyjwt, pycryptodomex, oscrypto, snowflake-connector-python\n",
      "Successfully installed oscrypto-1.2.1 pycryptodomex-3.12.0 pyjwt-2.3.0 snowflake-connector-python-2.7.2\n"
     ]
    }
   ],
   "source": [
    "# import snowflake.connector\n",
    "#install library\n",
    "# !pip install snowflake-connector-python"
   ]
  },
  {
   "cell_type": "code",
   "execution_count": 13,
   "id": "13e79395",
   "metadata": {},
   "outputs": [
    {
     "name": "stdout",
     "output_type": "stream",
     "text": [
      "5.45.1\n"
     ]
    }
   ],
   "source": [
    "import snowflake.connector\n",
    "\n",
    "PASSWORD = b''.decode('UTF-16')\n",
    "WAREHOUSE = 'COMPUTE_WH'\n",
    "USER = 'OMAR_CLAFLIN'\n",
    "ACCOUNT='Renaissance-MM82784'\n",
    "DATABASE = 'FRECKLE_PROD'\n",
    "# SCHEMA = ''\n",
    "# Gets the version\n",
    "ctx = snowflake.connector.connect(\n",
    "    user=USER,\n",
    "    password=PASSWORD,\n",
    "    account=ACCOUNT, \n",
    "    database=DATABASE\n",
    "#     schema=SCHEMA\n",
    "    )\n",
    "cs = ctx.cursor()\n",
    "try:\n",
    "    cs.execute(\"SELECT current_version()\")\n",
    "    one_row = cs.fetchone()\n",
    "    print(one_row[0])\n",
    "finally:\n",
    "    cs.close()\n",
    "ctx.close()"
   ]
  },
  {
   "cell_type": "code",
   "execution_count": 45,
   "id": "60a7eb4a",
   "metadata": {},
   "outputs": [
    {
     "data": {
      "text/plain": [
       "'/home/ec2-user/SageMaker'"
      ]
     },
     "execution_count": 45,
     "metadata": {},
     "output_type": "execute_result"
    }
   ],
   "source": [
    "import os\n",
    "os.getcwd()\n",
    "# os.listdir('//home/ec2-user/SageMaker/')"
   ]
  },
  {
   "cell_type": "code",
   "execution_count": null,
   "id": "f3f90a7c",
   "metadata": {},
   "outputs": [],
   "source": [
    "ctx = snowflake.connector.connect(\n",
    "    user=USER,\n",
    "    password=PASSWORD,\n",
    "    account=ACCOUNT, \n",
    "    database=DATABASE\n",
    "#     schema=SCHEMA\n",
    "    )\n",
    "cs = ctx.cursor()\n",
    "\n",
    "\n",
    "import time\n",
    "starttime = time.time()\n",
    "# try:\n",
    "cs.execute(\"USE warehouse COMPUTE_WH;\")\n",
    "cs.execute(\"USE DATABASE FRECKLE_PROD;\")\n",
    "cs.execute(\"GET @omars_data_dump file:///home/ec2-user/SageMaker/;\")\n",
    "# file:///tmp/data/;\n",
    "# cs.execute(\"GET '@omars_data_dump' 's3://freckle-data-science/' ;\")\n",
    "# cs.execute(\"copy into 's3://freckle-data-science/' from '@omars_data_dump';\")\n",
    "# cs.execute(\"select * from FRECKLE_PROD.VIEWS.MATH_ANSWERS_FACT limit 10 \")\n",
    "print('completed, ', time.time()-starttime, ' seconds.')\n",
    "# except:\n",
    "#     print('failed')\n"
   ]
  },
  {
   "cell_type": "code",
   "execution_count": null,
   "id": "4ef5c495",
   "metadata": {},
   "outputs": [
    {
     "name": "stdout",
     "output_type": "stream",
     "text": [
      ".sparkmagic  skipped.\n",
      "Untitled.ipynb  skipped.\n",
      "lost+found  skipped.\n",
      "Snowflake_connector_ETL.ipynb  skipped.\n",
      ".ipynb_checkpoints  skipped.\n"
     ]
    }
   ],
   "source": [
    "#move to s3\n",
    "import boto3, os\n",
    "for file in os.listdir():\n",
    "    if file[-6:]=='csv.gz':\n",
    "        boto3.Session().resource('s3').Bucket('freckle-data-science').Object(file)\n",
    "    else:\n",
    "        print(file, ' skipped.')"
   ]
  },
  {
   "cell_type": "code",
   "execution_count": null,
   "id": "f90e817c",
   "metadata": {},
   "outputs": [],
   "source": [
    "#load and extract gzip csv files\n",
    "#need to dump into a user x question matrix (for each skill probably separately)"
   ]
  },
  {
   "cell_type": "code",
   "execution_count": 51,
   "id": "89f5d5df",
   "metadata": {},
   "outputs": [
    {
     "data": {
      "text/plain": [
       "'csv.gz'"
      ]
     },
     "execution_count": 51,
     "metadata": {},
     "output_type": "execute_result"
    }
   ],
   "source": [
    "os.listdir()[1][-6:]"
   ]
  },
  {
   "cell_type": "code",
   "execution_count": null,
   "id": "bf34a301",
   "metadata": {},
   "outputs": [],
   "source": []
  }
 ],
 "metadata": {
  "kernelspec": {
   "display_name": "conda_python3",
   "language": "python",
   "name": "conda_python3"
  },
  "language_info": {
   "codemirror_mode": {
    "name": "ipython",
    "version": 3
   },
   "file_extension": ".py",
   "mimetype": "text/x-python",
   "name": "python",
   "nbconvert_exporter": "python",
   "pygments_lexer": "ipython3",
   "version": "3.6.13"
  }
 },
 "nbformat": 4,
 "nbformat_minor": 5
}
